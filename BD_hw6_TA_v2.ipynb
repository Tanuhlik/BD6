{
 "cells": [
  {
   "cell_type": "code",
   "execution_count": 1,
   "metadata": {},
   "outputs": [],
   "source": [
    "from pymongo import MongoClient"
   ]
  },
  {
   "cell_type": "code",
   "execution_count": 2,
   "metadata": {},
   "outputs": [],
   "source": [
    "myclient = MongoClient(\"mongodb://localhost:27017/\")"
   ]
  },
  {
   "cell_type": "code",
   "execution_count": 3,
   "metadata": {},
   "outputs": [],
   "source": [
    "mydb = myclient[\"titanic\"]"
   ]
  },
  {
   "cell_type": "code",
   "execution_count": 4,
   "metadata": {},
   "outputs": [
    {
     "name": "stdout",
     "output_type": "stream",
     "text": [
      "['admin', 'config', 'local', 'titanic']\n"
     ]
    }
   ],
   "source": [
    "print(myclient.list_database_names())"
   ]
  },
  {
   "cell_type": "code",
   "execution_count": 5,
   "metadata": {},
   "outputs": [],
   "source": [
    "test_col = mydb[\"test\"]\n",
    "train_col = mydb[\"train\"]"
   ]
  },
  {
   "cell_type": "code",
   "execution_count": 6,
   "metadata": {},
   "outputs": [
    {
     "name": "stdout",
     "output_type": "stream",
     "text": [
      "['test', 'train']\n"
     ]
    }
   ],
   "source": [
    "print(mydb.list_collection_names())"
   ]
  },
  {
   "cell_type": "code",
   "execution_count": 7,
   "metadata": {},
   "outputs": [],
   "source": [
    "test_list = [\n",
    "    { \n",
    "        'pclass':'row1',\n",
    "        'sex':'row1',\n",
    "        'Age':'row1',\n",
    "        'sibsp':'row1',\n",
    "        'parch':'row1',\n",
    "        'ticket':'row1',\n",
    "        'fare':'row1',\n",
    "        'cabin':'row1',\n",
    "        'embarked2':'row1',\n",
    "    },\n",
    "    { \n",
    "        'pclass':'row2',\n",
    "        'sex':'row2',\n",
    "        'Age':'row2',\n",
    "        'sibsp':'row2',\n",
    "        'parch':'row2',\n",
    "        'ticket':'row2',\n",
    "        'fare':'row2',\n",
    "        'cabin':'row2',\n",
    "        'embarked2':'row2',\n",
    "  },\n",
    "  { \n",
    "        'pclass':'row3',\n",
    "        'sex':'row3',\n",
    "        'Age':'row3',\n",
    "        'sibsp':'row3',\n",
    "        'parch':'row3',\n",
    "        'ticket':'row3',\n",
    "        'fare':'row3',\n",
    "        'cabin':'row3',\n",
    "        'embarked2':'row3',\n",
    "    },\n",
    "    { \n",
    "        'pclass':'row4',\n",
    "        'sex':'row4',\n",
    "        'Age':'row4',\n",
    "        'sibsp':'row4',\n",
    "        'parch':'row4',\n",
    "        'ticket':'row4',\n",
    "        'fare':'row4',\n",
    "        'cabin':'row4',\n",
    "        'embarked2':'row4',\n",
    "    }]"
   ]
  },
  {
   "cell_type": "code",
   "execution_count": 8,
   "metadata": {},
   "outputs": [],
   "source": [
    "train_list = [\n",
    "    { \n",
    "        'survival':'row1',\n",
    "        'pclass':'row1',\n",
    "        'sex':'row1',\n",
    "        'Age':'row1',\n",
    "        'sibsp':'row1',\n",
    "        'parch':'row1',\n",
    "        'ticket':'row1',\n",
    "        'fare':'row1',\n",
    "        'cabin':'row1',\n",
    "        'embarked2':'row1',\n",
    "    },\n",
    "    { \n",
    "        'survival':'row2',\n",
    "        'pclass':'row2',\n",
    "        'sex':'row2',\n",
    "        'Age':'row2',\n",
    "        'sibsp':'row2',\n",
    "        'parch':'row2',\n",
    "        'ticket':'row2',\n",
    "        'fare':'row2',\n",
    "        'cabin':'row2',\n",
    "        'embarked2':'row2',\n",
    "   },\n",
    "   { \n",
    "        'survival':'row3',\n",
    "        'pclass':'row3',\n",
    "        'sex':'row3',\n",
    "        'Age':'row3',\n",
    "        'sibsp':'row3',\n",
    "        'parch':'row3',\n",
    "        'ticket':'row3',\n",
    "        'fare':'row3',\n",
    "        'cabin':'row3',\n",
    "        'embarked2':'row3',\n",
    "    },\n",
    "    { \n",
    "        'survival':'row4',\n",
    "        'pclass':'row4',\n",
    "        'sex':'row4',\n",
    "        'Age':'row4',\n",
    "        'sibsp':'row4',\n",
    "        'parch':'row4',\n",
    "        'ticket':'row4',\n",
    "        'fare':'row4',\n",
    "        'cabin':'row4',\n",
    "        'embarked2':'row4',\n",
    "  }]"
   ]
  },
  {
   "cell_type": "code",
   "execution_count": 9,
   "metadata": {},
   "outputs": [],
   "source": [
    "insert_test_col = test_col.insert_many(test_list)\n",
    "insert_train_col = train_col.insert_many(train_list)"
   ]
  },
  {
   "cell_type": "code",
   "execution_count": 10,
   "metadata": {},
   "outputs": [
    {
     "name": "stdout",
     "output_type": "stream",
     "text": [
      "['admin', 'config', 'local', 'titanic']\n"
     ]
    }
   ],
   "source": [
    "print(myclient.list_database_names())"
   ]
  },
  {
   "cell_type": "code",
   "execution_count": 11,
   "metadata": {},
   "outputs": [
    {
     "name": "stdout",
     "output_type": "stream",
     "text": [
      "['test', 'train']\n"
     ]
    }
   ],
   "source": [
    "print(mydb.list_collection_names())"
   ]
  },
  {
   "cell_type": "code",
   "execution_count": 12,
   "metadata": {},
   "outputs": [
    {
     "name": "stdout",
     "output_type": "stream",
     "text": [
      "{'_id': ObjectId('5ce1c237060f0912c4a4abec'), 'survival': 'row1', 'pclass': 'row1', 'sex': 'row1', 'Age': 'row1', 'sibsp': 'row1', 'parch': 'row1', 'ticket': 'row1', 'fare': 'row1', 'cabin': 'row1', 'embarked2': 'row1'}\n",
      "{'_id': ObjectId('5ce1c237060f0912c4a4abed'), 'survival': 'row2', 'pclass': 'row2', 'sex': 'row2', 'Age': 'row2', 'sibsp': 'row2', 'parch': 'row2', 'ticket': 'row2', 'fare': 'row2', 'cabin': 'row2', 'embarked2': 'row2'}\n",
      "{'_id': ObjectId('5ce1c237060f0912c4a4abee'), 'survival': 'row3', 'pclass': 'row3', 'sex': 'row3', 'Age': 'row3', 'sibsp': 'row3', 'parch': 'row3', 'ticket': 'row3', 'fare': 'row3', 'cabin': 'row3', 'embarked2': 'row3'}\n",
      "{'_id': ObjectId('5ce1c237060f0912c4a4abef'), 'survival': 'row4', 'pclass': 'row4', 'sex': 'row4', 'Age': 'row4', 'sibsp': 'row4', 'parch': 'row4', 'ticket': 'row4', 'fare': 'row4', 'cabin': 'row4', 'embarked2': 'row4'}\n",
      "{'_id': ObjectId('5ce1c27f060f0917806db48f'), 'survival': 'row1', 'pclass': 'row1', 'sex': 'row1', 'Age': 'row1', 'sibsp': 'row1', 'parch': 'row1', 'ticket': 'row1', 'fare': 'row1', 'cabin': 'row1', 'embarked2': 'row1'}\n",
      "{'_id': ObjectId('5ce1c27f060f0917806db490'), 'survival': 'row2', 'pclass': 'row2', 'sex': 'row2', 'Age': 'row2', 'sibsp': 'row2', 'parch': 'row2', 'ticket': 'row2', 'fare': 'row2', 'cabin': 'row2', 'embarked2': 'row2'}\n",
      "{'_id': ObjectId('5ce1c27f060f0917806db491'), 'survival': 'row3', 'pclass': 'row3', 'sex': 'row3', 'Age': 'row3', 'sibsp': 'row3', 'parch': 'row3', 'ticket': 'row3', 'fare': 'row3', 'cabin': 'row3', 'embarked2': 'row3'}\n",
      "{'_id': ObjectId('5ce1c27f060f0917806db492'), 'survival': 'row4', 'pclass': 'row4', 'sex': 'row4', 'Age': 'row4', 'sibsp': 'row4', 'parch': 'row4', 'ticket': 'row4', 'fare': 'row4', 'cabin': 'row4', 'embarked2': 'row4'}\n"
     ]
    }
   ],
   "source": [
    "for doc in train_col.find():\n",
    "    print(doc)"
   ]
  },
  {
   "cell_type": "code",
   "execution_count": 13,
   "metadata": {},
   "outputs": [
    {
     "name": "stdout",
     "output_type": "stream",
     "text": [
      "{'_id': ObjectId('5ce1c237060f0912c4a4abe8'), 'pclass': 'row1', 'sex': 'row1', 'Age': 'row1', 'sibsp': 'row1', 'parch': 'row1', 'ticket': 'row1', 'fare': 'row1', 'cabin': 'row1', 'embarked2': 'row1'}\n",
      "{'_id': ObjectId('5ce1c237060f0912c4a4abe9'), 'pclass': 'row2', 'sex': 'row2', 'Age': 'row2', 'sibsp': 'row2', 'parch': 'row2', 'ticket': 'row2', 'fare': 'row2', 'cabin': 'row2', 'embarked2': 'row2'}\n",
      "{'_id': ObjectId('5ce1c237060f0912c4a4abea'), 'pclass': 'row3', 'sex': 'row3', 'Age': 'row3', 'sibsp': 'row3', 'parch': 'row3', 'ticket': 'row3', 'fare': 'row3', 'cabin': 'row3', 'embarked2': 'row3'}\n",
      "{'_id': ObjectId('5ce1c237060f0912c4a4abeb'), 'pclass': 'row4', 'sex': 'row4', 'Age': 'row4', 'sibsp': 'row4', 'parch': 'row4', 'ticket': 'row4', 'fare': 'row4', 'cabin': 'row4', 'embarked2': 'row4'}\n",
      "{'_id': ObjectId('5ce1c27f060f0917806db48b'), 'pclass': 'row1', 'sex': 'row1', 'Age': 'row1', 'sibsp': 'row1', 'parch': 'row1', 'ticket': 'row1', 'fare': 'row1', 'cabin': 'row1', 'embarked2': 'row1'}\n",
      "{'_id': ObjectId('5ce1c27f060f0917806db48c'), 'pclass': 'row2', 'sex': 'row2', 'Age': 'row2', 'sibsp': 'row2', 'parch': 'row2', 'ticket': 'row2', 'fare': 'row2', 'cabin': 'row2', 'embarked2': 'row2'}\n",
      "{'_id': ObjectId('5ce1c27f060f0917806db48d'), 'pclass': 'row3', 'sex': 'row3', 'Age': 'row3', 'sibsp': 'row3', 'parch': 'row3', 'ticket': 'row3', 'fare': 'row3', 'cabin': 'row3', 'embarked2': 'row3'}\n",
      "{'_id': ObjectId('5ce1c27f060f0917806db48e'), 'pclass': 'row4', 'sex': 'row4', 'Age': 'row4', 'sibsp': 'row4', 'parch': 'row4', 'ticket': 'row4', 'fare': 'row4', 'cabin': 'row4', 'embarked2': 'row4'}\n"
     ]
    }
   ],
   "source": [
    "for doc in test_col.find():\n",
    "    print(doc)"
   ]
  },
  {
   "cell_type": "code",
   "execution_count": 14,
   "metadata": {},
   "outputs": [
    {
     "name": "stdout",
     "output_type": "stream",
     "text": [
      "{'survival': 'row1', 'pclass': 'row1'}\n",
      "{'survival': 'row2', 'pclass': 'row2'}\n",
      "{'survival': 'row3', 'pclass': 'row3'}\n",
      "{'survival': 'row4', 'pclass': 'row4'}\n",
      "{'survival': 'row1', 'pclass': 'row1'}\n",
      "{'survival': 'row2', 'pclass': 'row2'}\n",
      "{'survival': 'row3', 'pclass': 'row3'}\n",
      "{'survival': 'row4', 'pclass': 'row4'}\n"
     ]
    }
   ],
   "source": [
    "for doc in train_col.find({},{'_id':0, 'survival':1, 'pclass':1}):\n",
    "    print(doc)"
   ]
  },
  {
   "cell_type": "code",
   "execution_count": 15,
   "metadata": {},
   "outputs": [
    {
     "name": "stdout",
     "output_type": "stream",
     "text": [
      "{'pclass': 'row1'}\n",
      "{'pclass': 'row2'}\n",
      "{'pclass': 'row3'}\n",
      "{'pclass': 'row4'}\n",
      "{'pclass': 'row1'}\n",
      "{'pclass': 'row2'}\n",
      "{'pclass': 'row3'}\n",
      "{'pclass': 'row4'}\n"
     ]
    }
   ],
   "source": [
    "for doc in test_col.find({},{'_id':0, 'survival':1, 'pclass':1}):\n",
    "    print(doc)"
   ]
  },
  {
   "cell_type": "code",
   "execution_count": 16,
   "metadata": {},
   "outputs": [],
   "source": [
    "query = { \"Age\": { \"$gt\": 20 } }\n",
    "\n",
    "docs_test = test_col.find(query)\n",
    "docs_train = train_col.find(query)\n",
    "\n",
    "for doc in docs_test:\n",
    "    print(doc)\n",
    "    \n",
    "for doc in docs_train:\n",
    "    print(doc)"
   ]
  },
  {
   "cell_type": "code",
   "execution_count": 17,
   "metadata": {},
   "outputs": [
    {
     "data": {
      "text/plain": [
       "<pymongo.results.DeleteResult at 0x3be7a88>"
      ]
     },
     "execution_count": 17,
     "metadata": {},
     "output_type": "execute_result"
    }
   ],
   "source": [
    "query_1 = { \"Age\": { \"$lt\": 10 } }\n",
    "test_col.delete_many(query_1)\n",
    "\n",
    "\n",
    "query_2 = { \"Age\": { \"$lt\": 15 } }\n",
    "train_col.delete_many(query_2)"
   ]
  },
  {
   "cell_type": "code",
   "execution_count": 18,
   "metadata": {},
   "outputs": [],
   "source": [
    "pass"
   ]
  },
  {
   "cell_type": "code",
   "execution_count": 19,
   "metadata": {},
   "outputs": [],
   "source": [
    "myclient.drop_database(\"titanic\")"
   ]
  },
  {
   "cell_type": "code",
   "execution_count": null,
   "metadata": {},
   "outputs": [],
   "source": []
  }
 ],
 "metadata": {
  "kernelspec": {
   "display_name": "Python 3",
   "language": "python",
   "name": "python3"
  },
  "language_info": {
   "codemirror_mode": {
    "name": "ipython",
    "version": 3
   },
   "file_extension": ".py",
   "mimetype": "text/x-python",
   "name": "python",
   "nbconvert_exporter": "python",
   "pygments_lexer": "ipython3",
   "version": "3.7.1"
  }
 },
 "nbformat": 4,
 "nbformat_minor": 2
}
